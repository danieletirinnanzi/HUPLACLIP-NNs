{
 "cells": [
  {
   "cell_type": "markdown",
   "metadata": {},
   "source": [
    "Visualization of the features extracted from the convnet as the predictions are performed:"
   ]
  },
  {
   "cell_type": "code",
   "execution_count": 8,
   "metadata": {},
   "outputs": [],
   "source": [
    "import math\n",
    "import torch\n",
    "import numpy as np\n",
    "import matplotlib.pyplot as plt\n",
    "from torchvision.models.feature_extraction import get_graph_node_names\n",
    "\n",
    "import sys\n",
    "import os\n",
    "sys.path.append(os.path.abspath(os.path.join('..')))"
   ]
  },
  {
   "cell_type": "code",
   "execution_count": 15,
   "metadata": {},
   "outputs": [
    {
     "name": "stdout",
     "output_type": "stream",
     "text": [
      "<class 'collections.OrderedDict'>\n",
      "1.weight\n",
      "1.bias\n",
      "2.weight\n",
      "2.bias\n",
      "2.running_mean\n",
      "2.running_var\n",
      "2.num_batches_tracked\n",
      "6.weight\n",
      "6.bias\n",
      "7.weight\n",
      "7.bias\n",
      "7.running_mean\n",
      "7.running_var\n",
      "7.num_batches_tracked\n",
      "11.weight\n",
      "11.bias\n",
      "12.weight\n",
      "12.bias\n",
      "12.running_mean\n",
      "12.running_var\n",
      "12.num_batches_tracked\n",
      "17.weight\n",
      "17.bias\n",
      "19.weight\n",
      "19.bias\n"
     ]
    }
   ],
   "source": [
    "# DOING SO USING FX (https://pytorch.org/blog/FX-feature-extraction-torchvision/)\n",
    "\n",
    "# importing the trained CNN model with torch:\n",
    "model_path = os.path.abspath(os.path.join('..', 'results', 'CNN_experiment_N100_2024-04-24_17-38-45', 'CNN', 'CNN_N100_trained.pth'))   # TO BE CHANGED\n",
    "CNN_model = torch.load(model_path)\n",
    "print(type(CNN_model))\n",
    "for name in CNN_model:\n",
    "    print(name)\n"
   ]
  },
  {
   "cell_type": "code",
   "execution_count": null,
   "metadata": {},
   "outputs": [],
   "source": [
    "get_graph_node_names"
   ]
  }
 ],
 "metadata": {
  "kernelspec": {
   "display_name": "ML",
   "language": "python",
   "name": "python3"
  },
  "language_info": {
   "codemirror_mode": {
    "name": "ipython",
    "version": 3
   },
   "file_extension": ".py",
   "mimetype": "text/x-python",
   "name": "python",
   "nbconvert_exporter": "python",
   "pygments_lexer": "ipython3",
   "version": "3.10.11"
  }
 },
 "nbformat": 4,
 "nbformat_minor": 2
}
